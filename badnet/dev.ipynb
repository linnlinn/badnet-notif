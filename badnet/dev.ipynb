{
 "cells": [
  {
   "cell_type": "code",
   "execution_count": 1,
   "metadata": {},
   "outputs": [],
   "source": [
    "import os\n",
    "import time\n",
    "import html\n",
    "import re\n",
    "import pandas as pd\n",
    "from datetime import datetime\n",
    "\n",
    "from selenium import webdriver\n",
    "from selenium.webdriver.chrome.options import Options\n",
    "from selenium.webdriver.chrome.service import Service\n",
    "from selenium.webdriver.support.select import Select"
   ]
  },
  {
   "cell_type": "code",
   "execution_count": 2,
   "metadata": {},
   "outputs": [],
   "source": [
    "url = \"https://badnet.fr/accueil\"\n",
    "chrome_options = Options()\n",
    "chrome_options.add_argument('--headless')\n",
    "chrome_options.add_argument('--window-size=1920x6080')\n",
    "chromedriver = os.getcwd() + \"/chromedriver\""
   ]
  },
  {
   "cell_type": "code",
   "execution_count": 3,
   "metadata": {},
   "outputs": [],
   "source": [
    "driver = webdriver.Chrome(options = chrome_options, service=Service(chromedriver))\n",
    "Tournaments = []\n",
    "tournaments_df = pd.DataFrame({'id':pd.Series(dtype='str'), \n",
    "    'name': pd.Series(dtype='str'),\n",
    "    'url':pd.Series(dtype='str'),\n",
    "    'departement': pd.Series(dtype='str'), \n",
    "    'date': pd.Series(dtype='str'),\n",
    "    'source': pd.Series(dtype='str'),\n",
    "    'description': pd.Series(dtype='str'),\n",
    "    \"date_publication\": pd.Series(dtype='datetime64[ns]')})"
   ]
  },
  {
   "cell_type": "code",
   "execution_count": 4,
   "metadata": {},
   "outputs": [
    {
     "name": "stdout",
     "output_type": "stream",
     "text": [
      "affichage => liste\n",
      "75\n",
      "page d'acceuil chargée\n",
      "trouvé 5 tournois\n",
      "77\n",
      "page d'acceuil chargée\n",
      "trouvé 7 tournois\n",
      "78\n",
      "page d'acceuil chargée\n",
      "trouvé 4 tournois\n",
      "91\n",
      "page d'acceuil chargée\n",
      "trouvé 7 tournois\n",
      "92\n",
      "page d'acceuil chargée\n",
      "trouvé 4 tournois\n",
      "93\n",
      "page d'acceuil chargée\n",
      "trouvé 5 tournois\n",
      "94\n",
      "page d'acceuil chargée\n",
      "trouvé 7 tournois\n",
      "95\n",
      "page d'acceuil chargée\n",
      "trouvé 4 tournois\n"
     ]
    }
   ],
   "source": [
    "driver.get(url)\n",
    "time.sleep(10)\n",
    "\n",
    "affichage = driver.find_element('class name', 'b-views')\n",
    "affichage.find_elements('tag name','li')[2].click()\n",
    "\n",
    "time.sleep(3)\n",
    "print('affichage => liste')\n",
    "\n",
    "departements = {'75':'62','77':'63','78':'64','91':'65','92':'66','93':'67','94':'68','95':'69'}\n",
    "for departement, departement_code in departements.items():\n",
    "    print(departement)\n",
    "    print(\"page d'acceuil chargée\")\n",
    "    #ligue_selector = Select(self.driver.find_element(\"id\",\"ligue\"))\n",
    "    #ligue_selector.select_by_value('12')\n",
    "\n",
    "    departement_selector = Select(driver.find_element(\"id\",\"departement\"))\n",
    "    departement_selector.select_by_value(departement_code)\n",
    "    time.sleep(5)\n",
    "\n",
    "    \n",
    "\n",
    "    tournaments=driver.find_element('id', 'search_results').find_elements('class name', 'row')\n",
    "    print(f\"trouvé {len(tournaments)} tournois\")\n",
    "    #print(tournaments.text)\n",
    "    time.sleep(5)"
   ]
  },
  {
   "cell_type": "code",
   "execution_count": 5,
   "metadata": {},
   "outputs": [
    {
     "data": {
      "text/plain": [
       "'https://badnet.fr/tournoi/public?eventid=25163'"
      ]
     },
     "execution_count": 5,
     "metadata": {},
     "output_type": "execute_result"
    }
   ],
   "source": [
    "tournaments[0].get_attribute(\"href\")"
   ]
  },
  {
   "cell_type": "code",
   "execution_count": 6,
   "metadata": {},
   "outputs": [],
   "source": [
    "import os\n",
    "import time\n",
    "import re\n",
    "from datetime import datetime\n",
    "import pandas as pd\n",
    "import traceback\n",
    "\n",
    "from selenium import webdriver\n",
    "from selenium.webdriver.chrome.options import Options\n",
    "from selenium.webdriver.chrome.service import Service\n",
    "from sqlalchemy import text\n",
    "\n",
    "#from badnet.sql_connection import badminton_db\n",
    "#from badnet.utils import logger\n",
    "\n",
    "class Tournament:\n",
    "    def __init__(self, name: str, url: str, date: str, ville: str, departement = \"99\", source=\"badnet\"):\n",
    "        self.name = name\n",
    "        self.url = url\n",
    "        self.id = url.split(\"=\")[-1]\n",
    "        self.departement = departement\n",
    "        self.date = date\n",
    "        self.description = ''\n",
    "        self.category = [ 'N', 'R', 'D','P', 'NC']\n",
    "        self.disciplines = ['simple', 'double', 'mixte']\n",
    "        self.age_group = ['jeunes', 'seniors', 'veterans']\n",
    "        self.source = source\n",
    "        self.date_publication = datetime.now()\n",
    "        self.ville = ville\n",
    "        self.date_registration_opening = ''\n",
    "        self.date_registration_closed = ''\n",
    "        self.ja = 'Non renseigné'\n",
    "        self.url_affiche='https://badnet.fr/Img/poster/affiche_default.png'\n",
    "        self.volant = 'Non renseigné'\n",
    "        self.date_publication = datetime.now()\n",
    "    \n",
    "    def __repr__(self) -> str:\n",
    "\n",
    "        return f\"Tournament {self.id} {self.name}\"\n",
    "\n",
    "    def get_additional_info(self):\n",
    "        chrome_options = Options()\n",
    "        chrome_options.add_argument('--headless')\n",
    "        chrome_options.add_argument('--window-size=1920x6080')\n",
    "        chromedriver = os.getcwd() + \"/chromedriver\"\n",
    "        self.driver = webdriver.Chrome(options = chrome_options, service=Service(chromedriver))\n",
    "        self.driver.get(self.url)\n",
    "        time.sleep(10)\n",
    "        self.driver.find_element(\"xpath\", \"/html/body/div[2]/div/section/div/div/nav/ul/li[1]/span\").click()\n",
    "        time.sleep(5)\n",
    "        infos = self.driver.find_element(\"class name\", \"infos\")\n",
    "        \n",
    "        dates = self.driver.find_element(\"class name\", \"limit\")\n",
    "\n",
    "        try:\n",
    "            notes = self.driver.find_element(\"class name\", \"text\")\n",
    "            self.description = re.search('Notes des organisateurs\\n((.*\\n*)*)',notes.text).group(1)\n",
    "        except Exception as e:\n",
    "            print(f\"Could not extract organizer's notes for {self.name} ID={self.id}\")\n",
    "        ja = re.search('Juge-arbitre : (.+)', infos.text)\n",
    "        self.ja = ja.group(1) if ja else 'unknown'\n",
    "        volant = re.search('Volant officiel : (.+)', infos.text)\n",
    "        self.volant = volant.group(1) if volant else 'unknown'\n",
    "        \n",
    "        try:\n",
    "            simple = infos.text.split('\\n')[infos.text.split('\\n').index('SIMPLE DOUBLE MIXTE')+1].split()[0]=='check'\n",
    "            double = infos.text.split('\\n')[infos.text.split('\\n').index('SIMPLE DOUBLE MIXTE')+1].split()[1]=='check'\n",
    "            mixte = infos.text.split('\\n')[infos.text.split('\\n').index('SIMPLE DOUBLE MIXTE')+1].split()[2]=='check'\n",
    "\n",
    "            discipline = {'simple': simple, 'double': double, 'mixte': mixte}\n",
    "            self.disciplines = [key for key, value in discipline.items() if value]\n",
    "            if self.disciplines==[]:\n",
    "                self.disciplines = ['simple', 'double', 'mixte']\n",
    "        except Exception as e:\n",
    "            print(f\"Could not extract disciplines for {self.name} ID={self.id}\")\n",
    "\n",
    "        try:\n",
    "            jeunes = infos.text.split('\\n')[infos.text.split('\\n').index('JEUNES SÉNIORS VÉTÉRANS HANDIBAD INCLUSIF')+1].split()[0]=='check'\n",
    "            seniors = infos.text.split('\\n')[infos.text.split('\\n').index('JEUNES SÉNIORS VÉTÉRANS HANDIBAD INCLUSIF')+1].split()[1]=='check'\n",
    "            veterans = infos.text.split('\\n')[infos.text.split('\\n').index('JEUNES SÉNIORS VÉTÉRANS HANDIBAD INCLUSIF')+1].split()[2]=='check'\n",
    "\n",
    "            age_group = {'jeunes': jeunes, 'seniors': seniors, 'veterans': veterans}\n",
    "            self.age_group = [key for key, value in age_group.items() if value]\n",
    "            print(','.join(self.age_group))\n",
    "            if self.age_group==[]:\n",
    "                self.age_group = ['jeunes', 'seniors', 'veterans']\n",
    "        except Exception as e:\n",
    "            print(f\"Could not extract age groups for {self.name} ID={self.id}\")\n",
    "\n",
    "        \n",
    "        try:\n",
    "            N = infos.text.split('\\n')[-1].split()[0]=='check'\n",
    "            R = infos.text.split('\\n')[-1].split()[1]=='check'\n",
    "            D = infos.text.split('\\n')[-1].split()[2]=='check'\n",
    "            P = infos.text.split('\\n')[-1].split()[3]=='check'\n",
    "            NC = infos.text.split('\\n')[-1].split()[4]=='check'\n",
    "\n",
    "            categories = {'N': N, 'R': R, 'D': D, 'P': P, 'NC': NC}\n",
    "            self.category = [key for key, value in categories.items() if value]\n",
    "            if self.category == []:\n",
    "                self.category = [ 'N', 'R', 'D','P', 'NC']\n",
    "        except Exception as e:\n",
    "            print(f\"Could not extract category for {self.name} ID={self.id}\")\n",
    "        try:\n",
    "            self.date_registration_opening = dates.text.split('\\n')[1]\n",
    "            self.date_registration_closed = dates.text.split('\\n')[3]\n",
    "        except Exception as e:\n",
    "            print(\"Could not extract registration dates for {self.name} ID={self.id}\")\n",
    "\n",
    "        self.url_affiche = self.driver.find_element(\"class name\", 'flex.top').find_element(\"tag name\", \"figure\").find_element(\"tag name\", \"a\").get_attribute(\"href\")\n",
    "        \n",
    "        self.driver.quit()"
   ]
  },
  {
   "cell_type": "code",
   "execution_count": null,
   "metadata": {},
   "outputs": [],
   "source": []
  },
  {
   "cell_type": "code",
   "execution_count": null,
   "metadata": {},
   "outputs": [],
   "source": []
  },
  {
   "cell_type": "code",
   "execution_count": 8,
   "metadata": {},
   "outputs": [],
   "source": [
    "Tournaments=[]\n",
    "for tournament in tournaments:\n",
    "    url = tournament.get_attribute(\"href\")\n",
    "    name = html.unescape(tournament.find_element('class name', 'name').text)\n",
    "    date = tournament.find_element('class name', 'date').text\n",
    "    ville = tournament.find_element('class name', 'location').text\n",
    "    Tournaments.append(Tournament(name=name, url=url, departement = departement, date=date, ville = ville))\n",
    "    tournaments_df = pd.concat([pd.DataFrame({\n",
    "        'id':url.split(\"=\")[-1],\n",
    "        'name':name,\n",
    "        'url':url,\n",
    "        'departement':departement,\n",
    "        'date':date,\n",
    "        'source':'badnet',\n",
    "        'description': '',\n",
    "        'date_publication':datetime.now()\n",
    "    }, index=[0]\n",
    "    ),tournaments_df.loc[:]]).reset_index(drop=True)"
   ]
  },
  {
   "cell_type": "code",
   "execution_count": 9,
   "metadata": {},
   "outputs": [
    {
     "data": {
      "text/plain": [
       "[Tournament 25163 BADoVAG5,\n",
       " Tournament 25744 Eco-Tournoi Labellisé Jeune LIFB d'Ermont 2024-2025,\n",
       " Tournament 25261 Les Mousquetaires fêtent Halloween en étant écoresponsables,\n",
       " Tournament 25672 Eco-tournoi de la Grande Horloge]"
      ]
     },
     "execution_count": 9,
     "metadata": {},
     "output_type": "execute_result"
    }
   ],
   "source": [
    "Tournaments"
   ]
  },
  {
   "cell_type": "code",
   "execution_count": 14,
   "metadata": {},
   "outputs": [
    {
     "data": {
      "text/plain": [
       "'https://badnet.fr/tournoi/public?eventid=25163'"
      ]
     },
     "execution_count": 14,
     "metadata": {},
     "output_type": "execute_result"
    }
   ],
   "source": [
    "Tournaments[0].url"
   ]
  },
  {
   "cell_type": "code",
   "execution_count": 11,
   "metadata": {},
   "outputs": [
    {
     "name": "stdout",
     "output_type": "stream",
     "text": [
      "Could not extract disciplines for BADoVAG5 ID=25163\n",
      "Could not extract age groups for BADoVAG5 ID=25163\n"
     ]
    }
   ],
   "source": [
    "Tournaments[0].get_additional_info()"
   ]
  },
  {
   "cell_type": "code",
   "execution_count": 13,
   "metadata": {},
   "outputs": [
    {
     "name": "stdout",
     "output_type": "stream",
     "text": [
      "Could not extract organizer's notes for\n",
      "seniors\n"
     ]
    }
   ],
   "source": [
    "chrome_options = Options()\n",
    "chrome_options.add_argument('--headless')\n",
    "chrome_options.add_argument('--window-size=1920x6080')\n",
    "chromedriver = os.getcwd() + \"/chromedriver\"\n",
    "driver = webdriver.Chrome(options = chrome_options, service=Service(chromedriver))\n",
    "url=Tournaments[0].url\n",
    "driver.get(url)\n",
    "time.sleep(10)\n",
    "driver.find_element(\"xpath\", \"/html/body/div[2]/div/section/div/div/nav/ul/li[1]/span\").click()\n",
    "time.sleep(5)\n",
    "infos_tt = driver.find_elements(\"class name\", \"infos\")\n",
    "titre = infos_tt[0].find_element('tag name', 'h2').text\n",
    "if titre == 'Informations pratiques':\n",
    "    infos = infos_tt[0]\n",
    "else:\n",
    "    infos = infos_tt[len(infos_tt)-1]\n",
    "\n",
    "\n",
    "dates = driver.find_element(\"class name\", \"limit\")\n",
    "\n",
    "try:\n",
    "    notes = driver.find_element(\"class name\", \"text\")\n",
    "    description = re.search('Notes des organisateurs\\n((.*\\n*)*)',notes.text).group(1)\n",
    "except Exception as e:\n",
    "    print(f\"Could not extract organizer's notes for\")\n",
    "ja = re.search('Juge-arbitre : (.+)', infos.text)\n",
    "ja = ja.group(1) if ja else 'unknown'\n",
    "volant = re.search('Volant officiel : (.+)', infos.text)\n",
    "volant = volant.group(1) if volant else 'unknown'\n",
    "\n",
    "try:\n",
    "    simple = infos.text.split('\\n')[infos.text.split('\\n').index('SIMPLE DOUBLE MIXTE')+1].split()[0]=='check'\n",
    "    double = infos.text.split('\\n')[infos.text.split('\\n').index('SIMPLE DOUBLE MIXTE')+1].split()[1]=='check'\n",
    "    mixte = infos.text.split('\\n')[infos.text.split('\\n').index('SIMPLE DOUBLE MIXTE')+1].split()[2]=='check'\n",
    "\n",
    "    discipline = {'simple': simple, 'double': double, 'mixte': mixte}\n",
    "    disciplines = [key for key, value in discipline.items() if value]\n",
    "    if disciplines==[]:\n",
    "        disciplines = ['simple', 'double', 'mixte']\n",
    "except Exception as e:\n",
    "    print(f\"Could not extract disciplines for \")\n",
    "\n",
    "try:\n",
    "    jeunes = infos.text.split('\\n')[infos.text.split('\\n').index('JEUNES SÉNIORS VÉTÉRANS HANDIBAD INCLUSIF')+1].split()[0]=='check'\n",
    "    seniors = infos.text.split('\\n')[infos.text.split('\\n').index('JEUNES SÉNIORS VÉTÉRANS HANDIBAD INCLUSIF')+1].split()[1]=='check'\n",
    "    veterans = infos.text.split('\\n')[infos.text.split('\\n').index('JEUNES SÉNIORS VÉTÉRANS HANDIBAD INCLUSIF')+1].split()[2]=='check'\n",
    "\n",
    "    age_group = {'jeunes': jeunes, 'seniors': seniors, 'veterans': veterans}\n",
    "    age_group = [key for key, value in age_group.items() if value]\n",
    "    print(','.join(age_group))\n",
    "    if age_group==[]:\n",
    "        age_group = ['jeunes', 'seniors', 'veterans']\n",
    "except Exception as e:\n",
    "    print(f\"Could not extract age groups for\")\n",
    "\n",
    "\n",
    "try:\n",
    "    N = infos.text.split('\\n')[-1].split()[0]=='check'\n",
    "    R = infos.text.split('\\n')[-1].split()[1]=='check'\n",
    "    D = infos.text.split('\\n')[-1].split()[2]=='check'\n",
    "    P = infos.text.split('\\n')[-1].split()[3]=='check'\n",
    "    NC = infos.text.split('\\n')[-1].split()[4]=='check'\n",
    "\n",
    "    categories = {'N': N, 'R': R, 'D': D, 'P': P, 'NC': NC}\n",
    "    category = [key for key, value in categories.items() if value]\n",
    "    if category == []:\n",
    "        category = [ 'N', 'R', 'D','P', 'NC']\n",
    "except Exception as e:\n",
    "    print(f\"Could not extract category for \")\n",
    "try:\n",
    "    date_registration_opening = dates.text.split('\\n')[1]\n",
    "    date_registration_closed = dates.text.split('\\n')[3]\n",
    "except Exception as e:\n",
    "    print(\"Could not extract registration dates for\")\n",
    "\n",
    "url_affiche = driver.find_element(\"class name\", 'flex.top').find_element(\"tag name\", \"figure\").find_element(\"tag name\", \"a\").get_attribute(\"href\")"
   ]
  },
  {
   "cell_type": "code",
   "execution_count": 14,
   "metadata": {},
   "outputs": [
    {
     "data": {
      "text/plain": [
       "'09/08/2023'"
      ]
     },
     "execution_count": 14,
     "metadata": {},
     "output_type": "execute_result"
    }
   ],
   "source": [
    "date_registration_opening"
   ]
  },
  {
   "cell_type": "code",
   "execution_count": 38,
   "metadata": {},
   "outputs": [],
   "source": [
    "infos = driver.find_elements(\"class name\", \"infos\")\n"
   ]
  },
  {
   "cell_type": "code",
   "execution_count": 66,
   "metadata": {},
   "outputs": [
    {
     "name": "stdout",
     "output_type": "stream",
     "text": [
      "seniors\n"
     ]
    }
   ],
   "source": [
    "url = Tournaments[0].url\n",
    "name = Tournaments[0].name\n",
    "id = Tournaments[0].id\n",
    "\n",
    "\n",
    "chrome_options = Options()\n",
    "chrome_options.add_argument('--headless')\n",
    "chrome_options.add_argument('--window-size=1920x6080')\n",
    "chromedriver = os.getcwd() + \"/chromedriver\"\n",
    "driver = webdriver.Chrome(options = chrome_options, service=Service(chromedriver))\n",
    "driver.get(url)\n",
    "time.sleep(10)\n",
    "driver.find_element(\"xpath\", \"/html/body/div[2]/div/section/div/div/nav/ul/li[1]/span\").click()\n",
    "time.sleep(5)\n",
    "infos_tt = driver.find_elements(\"class name\", \"infos\")\n",
    "titre = infos_tt[0].find_element('tag name', 'h2').text\n",
    "if titre == 'Informations pratiques':\n",
    "    infos = infos_tt[0]\n",
    "else:\n",
    "    infos = infos_tt[len(infos_tt)-1]\n",
    "\n",
    "dates = driver.find_element(\"class name\", \"limit\")\n",
    "\n",
    "try:\n",
    "    notes = driver.find_element(\"class name\", \"text\")\n",
    "    description = re.search('Notes des organisateurs\\n((.*\\n*)*)',notes.text).group(1)\n",
    "except Exception as e:\n",
    "    print(f\"Could not extract organizer's notes for {name} ID={id}\")\n",
    "    print(traceback.format_exc())\n",
    "\n",
    "ja = re.search('Juge-arbitre : (.+)', infos.text)\n",
    "ja = ja.group(1) if ja else 'unknown'\n",
    "volant = re.search('Volant officiel : (.+)', infos.text)\n",
    "volant = volant.group(1) if volant else 'unknown'\n",
    "\n",
    "try:\n",
    "    simple = infos.text.split('\\n')[infos.text.split('\\n').index('SIMPLE DOUBLE MIXTE')+1].split()[0]=='check'\n",
    "    double = infos.text.split('\\n')[infos.text.split('\\n').index('SIMPLE DOUBLE MIXTE')+1].split()[1]=='check'\n",
    "    mixte = infos.text.split('\\n')[infos.text.split('\\n').index('SIMPLE DOUBLE MIXTE')+1].split()[2]=='check'\n",
    "\n",
    "    discipline = {'simple': simple, 'double': double, 'mixte': mixte}\n",
    "    disciplines = [key for key, value in discipline.items() if value]\n",
    "    if disciplines==[]:\n",
    "        disciplines = ['simple', 'double', 'mixte']\n",
    "except Exception as e:\n",
    "    print(f\"Could not extract disciplines for {name} ID={id}\")\n",
    "    print(traceback.format_exc())\n",
    "\n",
    "\n",
    "try:\n",
    "    jeunes = infos.text.split('\\n')[infos.text.split('\\n').index('JEUNES SÉNIORS VÉTÉRANS HANDIBAD INCLUSIF')+1].split()[0]=='check'\n",
    "    seniors = infos.text.split('\\n')[infos.text.split('\\n').index('JEUNES SÉNIORS VÉTÉRANS HANDIBAD INCLUSIF')+1].split()[1]=='check'\n",
    "    veterans = infos.text.split('\\n')[infos.text.split('\\n').index('JEUNES SÉNIORS VÉTÉRANS HANDIBAD INCLUSIF')+1].split()[2]=='check'\n",
    "\n",
    "    age_group = {'jeunes': jeunes, 'seniors': seniors, 'veterans': veterans}\n",
    "    age_group = [key for key, value in age_group.items() if value]\n",
    "    print(','.join(age_group))\n",
    "    if age_group==[]:\n",
    "        age_group = ['jeunes', 'seniors', 'veterans']\n",
    "except Exception as e:\n",
    "    print(f\"Could not extract age groups for {name} ID={id}\")\n",
    "    print(traceback.format_exc())\n",
    "\n",
    "\n",
    "try:\n",
    "    classements = infos.text.split('\\n')[-1]\n",
    "    N = 'N' in classements #=='check'\n",
    "    R = 'R' in classements #=='check'\n",
    "    D = 'D' in classements\n",
    "    P = 'P' in classements\n",
    "    NC = 'check' in classements\n",
    "\n",
    "    list_classements = [x for x in classements.split() if len(x) in (2,3)]\n",
    "\n",
    "    categories = {'N': N, 'R': R, 'D': D, 'P': P, 'NC': NC}\n",
    "    category = [key for key, value in categories.items() if value]\n",
    "    if category == []:\n",
    "        category = [ 'N', 'R', 'D','P', 'NC']\n",
    "except Exception as e:\n",
    "    print(f\"Could not extract category for {name} ID={id}\")\n",
    "    print(traceback.format_exc())\n",
    "try:\n",
    "    date_registration_opening = dates.text.split('\\n')[1]\n",
    "    date_registration_closed = dates.text.split('\\n')[3]\n",
    "except Exception as e:\n",
    "    print(\"Could not extract registration dates for {self.name} ID={self.id}\")\n",
    "\n",
    "#driver.quit()"
   ]
  },
  {
   "cell_type": "code",
   "execution_count": 67,
   "metadata": {},
   "outputs": [
    {
     "data": {
      "text/plain": [
       "['R4', 'R5', 'R6', 'D7', 'D8', 'D9', 'P10', 'P11', 'P12']"
      ]
     },
     "execution_count": 67,
     "metadata": {},
     "output_type": "execute_result"
    }
   ],
   "source": [
    "[x for x in classements.split() if len(x) in (2,3)]"
   ]
  },
  {
   "cell_type": "code",
   "execution_count": 65,
   "metadata": {},
   "outputs": [
    {
     "data": {
      "text/plain": [
       "'close R4 R5 R6 D7 D8 D9 P10 P11 P12 check'"
      ]
     },
     "execution_count": 65,
     "metadata": {},
     "output_type": "execute_result"
    }
   ],
   "source": [
    "classements"
   ]
  },
  {
   "cell_type": "code",
   "execution_count": 49,
   "metadata": {},
   "outputs": [
    {
     "data": {
      "text/plain": [
       "'R4'"
      ]
     },
     "execution_count": 49,
     "metadata": {},
     "output_type": "execute_result"
    }
   ],
   "source": [
    "R"
   ]
  },
  {
   "cell_type": "code",
   "execution_count": 50,
   "metadata": {},
   "outputs": [
    {
     "data": {
      "text/plain": [
       "'R5'"
      ]
     },
     "execution_count": 50,
     "metadata": {},
     "output_type": "execute_result"
    }
   ],
   "source": [
    "D"
   ]
  },
  {
   "cell_type": "code",
   "execution_count": 51,
   "metadata": {},
   "outputs": [
    {
     "data": {
      "text/plain": [
       "'R6'"
      ]
     },
     "execution_count": 51,
     "metadata": {},
     "output_type": "execute_result"
    }
   ],
   "source": [
    "P"
   ]
  },
  {
   "cell_type": "code",
   "execution_count": 52,
   "metadata": {},
   "outputs": [
    {
     "data": {
      "text/plain": [
       "'D7'"
      ]
     },
     "execution_count": 52,
     "metadata": {},
     "output_type": "execute_result"
    }
   ],
   "source": [
    "NC"
   ]
  }
 ],
 "metadata": {
  "kernelspec": {
   "display_name": "Python 3",
   "language": "python",
   "name": "python3"
  },
  "language_info": {
   "codemirror_mode": {
    "name": "ipython",
    "version": 3
   },
   "file_extension": ".py",
   "mimetype": "text/x-python",
   "name": "python",
   "nbconvert_exporter": "python",
   "pygments_lexer": "ipython3",
   "version": "3.8.16"
  },
  "orig_nbformat": 4,
  "vscode": {
   "interpreter": {
    "hash": "767d51c1340bd893661ea55ea3124f6de3c7a262a8b4abca0554b478b1e2ff90"
   }
  }
 },
 "nbformat": 4,
 "nbformat_minor": 2
}
